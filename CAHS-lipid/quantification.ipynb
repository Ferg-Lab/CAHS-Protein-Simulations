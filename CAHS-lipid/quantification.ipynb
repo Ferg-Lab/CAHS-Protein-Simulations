{
 "cells": [
  {
   "cell_type": "code",
   "execution_count": 1,
   "id": "eb851c57",
   "metadata": {},
   "outputs": [],
   "source": [
    "import MDAnalysis as mda\n",
    "import os\n",
    "import glob\n",
    "import sys"
   ]
  },
  {
   "cell_type": "code",
   "execution_count": 2,
   "id": "cd449649",
   "metadata": {},
   "outputs": [],
   "source": [
    "import numpy as np\n",
    "import pandas as pd\n",
    "from MDAnalysis.analysis.rdf import InterRDF, InterRDF_s\n",
    "import matplotlib.pyplot as plt\n",
    "import matplotlib as mpl\n",
    "mpl.rcParams['figure.dpi'] = 150\n"
   ]
  },
  {
   "cell_type": "code",
   "execution_count": 11,
   "id": "858ceabc",
   "metadata": {},
   "outputs": [
    {
     "name": "stdout",
     "output_type": "stream",
     "text": [
      "['CAHS12-dC/sim_1', 'CAHS12-dC/sim_3', 'CAHS12-dC/sim_2', 'CAHS12/sim_1', 'CAHS12/sim_3', 'CAHS12/sim_2', 'CAHS12-dN/sim_1', 'CAHS12-dN/sim_3', 'CAHS12-dN/sim_2']\n"
     ]
    }
   ],
   "source": [
    "from pathlib import Path\n",
    "\n",
    "root = Path('./').resolve()\n",
    "directories = [str(path.relative_to(root)) for path in root.rglob('*') if path.is_dir() and len(path.relative_to(root).parts) == 2]\n",
    "print(directories)"
   ]
  },
  {
   "cell_type": "code",
   "execution_count": 7,
   "id": "cacec242",
   "metadata": {},
   "outputs": [],
   "source": [
    "for folder in directories:\n",
    "    command = f'echo 16 | gmx_mpi trjconv -f ./{folder}/md.xtc -s ./{folder}/md.tpr -pbc mol -o ./{folder}/md.gro -dump 1500000 -n ./{folder}/index.ndx'\n",
    "    os.system(command)"
   ]
  },
  {
   "cell_type": "code",
   "execution_count": 8,
   "id": "14117076",
   "metadata": {},
   "outputs": [],
   "source": [
    "for folder in directories:\n",
    "    command = f'echo 16 | gmx_mpi trjconv -f ./{folder}/md.gro -s ./{folder}/md.tpr -pbc mol -o ./{folder}/popc_protein.pdb -n ./{folder}/index.ndx -conect yes'\n",
    "    os.system(command)\n",
    "    "
   ]
  },
  {
   "cell_type": "code",
   "execution_count": 9,
   "id": "465e8b4d",
   "metadata": {},
   "outputs": [],
   "source": [
    "for folder in directories:\n",
    "    command = f'echo 16 | gmx_mpi trjconv -f ./{folder}/md.xtc -s ./{folder}/md.tpr -pbc mol \\\n",
    "    -o ./{folder}/popc_protein.xtc -n ./{folder}/index.ndx  -b 1000000 -dt 2000 -e 1500000'\n",
    "    os.system(command)\n",
    "    "
   ]
  },
  {
   "cell_type": "code",
   "execution_count": 10,
   "id": "9b8ff4e4",
   "metadata": {},
   "outputs": [],
   "source": [
    "for folder in directories:\n",
    "    command = f'echo 5 | gmx_mpi trjconv -f ./{folder}/md.gro -s ./{folder}/md.tpr -pbc mol -trans 0 0 -10 -o ./{folder}/protein_shifted.pdb -n ./{folder}/index.ndx -conect yes'\n",
    "    os.system(command)\n",
    "    "
   ]
  },
  {
   "cell_type": "code",
   "execution_count": 11,
   "id": "ffa59a64",
   "metadata": {},
   "outputs": [],
   "source": [
    "for folder in directories:\n",
    "    command = f'echo 5 | gmx_mpi trjconv -f ./{folder}/md.xtc -s ./{folder}/md.tpr \\\n",
    "    -pbc mol -trans 0 0 -10 -o ./{folder}/protein.xtc -b 1000000 -dt 2000 -e 1500000'\n",
    "    os.system(command)\n",
    "    "
   ]
  },
  {
   "cell_type": "code",
   "execution_count": null,
   "id": "98007db4",
   "metadata": {},
   "outputs": [],
   "source": []
  },
  {
   "cell_type": "markdown",
   "id": "1abd13fa",
   "metadata": {},
   "source": [
    "### COM distance"
   ]
  },
  {
   "cell_type": "code",
   "execution_count": 13,
   "id": "f9f3e25e",
   "metadata": {
    "scrolled": false
   },
   "outputs": [
    {
     "name": "stdout",
     "output_type": "stream",
     "text": [
      "Processing delta_C-3...\n"
     ]
    },
    {
     "name": "stderr",
     "output_type": "stream",
     "text": [
      "/home/mjianming/miniconda3/envs/ELP/lib/python3.8/site-packages/MDAnalysis/coordinates/XDR.py:241: UserWarning: Reload offsets from trajectory\n",
      " ctime or size or n_atoms did not match\n",
      "  warnings.warn(\"Reload offsets from trajectory\\n \"\n"
     ]
    },
    {
     "name": "stdout",
     "output_type": "stream",
     "text": [
      "delta_C-3: Avg Inserted Residues = 113.73\n"
     ]
    }
   ],
   "source": [
    "import MDAnalysis as mda\n",
    "import numpy as np\n",
    "import pandas as pd\n",
    "import os\n",
    "\n",
    "cutoff_xy = 8.0  # Local search radius in XY (Å) -- contains ~ 6 POPC lipids\n",
    "\n",
    "overall_stats = []\n",
    "\n",
    "for directory in directories:\n",
    "    print(f\"Processing {directory}...\")\n",
    "\n",
    "    u = mda.Universe(f'./{directory}/popc_protein.pdb',\n",
    "                     f'./{directory}/popc_protein.xtc')\n",
    "\n",
    "    protein = u.select_atoms(\"protein\")\n",
    "    lipid_heads = u.select_atoms(\"resname POPC and name NC3\")\n",
    "\n",
    "    frame_inserted_counts = []\n",
    "\n",
    "    for ts in u.trajectory[::5]:\n",
    "        inserted_count = 0\n",
    "\n",
    "        for res in protein.residues:\n",
    "            com = res.atoms.center_of_mass()\n",
    "            com_xy = com[:2]\n",
    "\n",
    "            lipid_positions = lipid_heads.positions\n",
    "            lipid_xy = lipid_positions[:, :2]\n",
    "            distances_xy = np.linalg.norm(lipid_xy - com_xy, axis=1)\n",
    "\n",
    "            nearby_z = lipid_positions[distances_xy < cutoff_xy][:, 2]\n",
    "\n",
    "            if len(nearby_z) < 2:\n",
    "                continue  # Not enough lipids nearby to define leaflet\n",
    "\n",
    "            median_z = np.median(nearby_z)\n",
    "            upper_leaflet = nearby_z[nearby_z > median_z]\n",
    "            lower_leaflet = nearby_z[nearby_z < median_z]\n",
    "\n",
    "            if len(upper_leaflet) == 0 or len(lower_leaflet) == 0:\n",
    "                continue \n",
    "\n",
    "            upper_mean = np.mean(upper_leaflet)\n",
    "            lower_mean = np.mean(lower_leaflet)\n",
    "            membrane_center = (upper_mean + lower_mean) / 2\n",
    "\n",
    "            if ((com[2] - membrane_center) > 0 and (com[2] - upper_mean) < 0) or ((com[2] - membrane_center) < 0 and (com[2] - lower_mean) > 0):\n",
    "                inserted_count += 1\n",
    "\n",
    "        frame_inserted_counts.append(inserted_count)\n",
    "\n",
    "    df = pd.DataFrame({\n",
    "        'frame': np.arange(len(frame_inserted_counts)),\n",
    "        'inserted_residue_count': frame_inserted_counts\n",
    "    })\n",
    "    #df.to_csv(f\"{directory}_insertion_local.csv\", index=False)\n",
    "    overall_stats.append((directory, np.mean(frame_inserted_counts)))\n",
    "\n",
    "# Print overall stats\n",
    "for name, avg_inserted in overall_stats:\n",
    "    print(f\"{name}: Avg Inserted Residues = {avg_inserted:.2f}\")\n"
   ]
  },
  {
   "cell_type": "code",
   "execution_count": 4,
   "id": "8b04b33b",
   "metadata": {},
   "outputs": [],
   "source": [
    "def pval_to_star(p):\n",
    "    if p < 0.0001:\n",
    "        return '****'\n",
    "    elif p < 0.001:\n",
    "        return '***'\n",
    "    elif p < 0.01:\n",
    "        return '**'\n",
    "    elif p < 0.05:\n",
    "        return '*'\n",
    "    else:\n",
    "        return 'n.s.'\n"
   ]
  },
  {
   "cell_type": "code",
   "execution_count": 30,
   "id": "31308b23",
   "metadata": {},
   "outputs": [
    {
     "data": {
      "image/png": "[encoded data removed]",
      "text/plain": [
       "<Figure size 400x600 with 1 Axes>"
      ]
     },
     "metadata": {
      "needs_background": "light"
     },
     "output_type": "display_data"
    }
   ],
   "source": [
    "import matplotlib.pyplot as plt\n",
    "import matplotlib.patches as patches\n",
    "import numpy as np\n",
    "from scipy.stats import ttest_ind\n",
    "\n",
    "\n",
    "xnames = ['CAHS12', r'CAHS12 $\\Delta$C Term', r'CAHS12 $\\Delta$N Term']\n",
    "data = np.array([\n",
    "    [34.18, 32.27, 44.82],\n",
    "    [128.18, 122.91, 113.73],\n",
    "    [14.00, 17.00, 22.36]\n",
    "], dtype=float)\n",
    "\n",
    "data=data/40\n",
    "\n",
    "\n",
    "group1 = data[0]  # CAHS12\n",
    "group2 = data[1]  # CAHS12-ΔC\n",
    "group3 = data[2]  # CAHS12-ΔN\n",
    "\n",
    "tstat_c, pval_c = ttest_ind(group1, group2, equal_var=False)\n",
    "tstat_n, pval_n = ttest_ind(group1, group3, equal_var=False)\n",
    "\n",
    "\n",
    "colors = ['#576fa0', '#b57979', '#e3b87f']\n",
    "xpos = np.arange(1, 4)\n",
    "size = 25\n",
    "\n",
    "means = [np.mean(g) for g in data]\n",
    "stds = [np.std(g) for g in data]\n",
    "\n",
    "plt.figure(figsize=(2, 3), dpi=200)\n",
    "ax = plt.gca()\n",
    "box_width = 0.4\n",
    "\n",
    "for x, mean, std, color in zip(xpos, means, stds, colors):\n",
    "    rect = patches.Rectangle(\n",
    "        (x - box_width / 2, mean - std),\n",
    "        width=box_width,\n",
    "        height=2 * std,\n",
    "        edgecolor='dimgray',\n",
    "        facecolor='white',\n",
    "        linewidth=1.,\n",
    "        zorder=2\n",
    "    )\n",
    "    ax.add_patch(rect)\n",
    "\n",
    "    plt.hlines(mean, x - box_width / 2, x + box_width / 2,\n",
    "               color='dimgray', linewidth=1., zorder=3)\n",
    "\n",
    "for i, (group, color) in enumerate(zip(data, colors)):\n",
    "    jittered_x = np.full(len(group), xpos[i]) + np.random.uniform(-0.1, 0.1, len(group))\n",
    "    plt.scatter(jittered_x, group, facecolor=color, edgecolor=color, s=size, linewidth=0, zorder=4, alpha=1)\n",
    "\n",
    "star_c = pval_to_star(pval_c)\n",
    "star_n = pval_to_star(pval_n)\n",
    "\n",
    "x_c = (xpos[0] + xpos[1]) / 2\n",
    "y_c = 3.5\n",
    "plt.text(x_c, y_c, star_c, ha='center', va='bottom', fontsize=8)\n",
    "\n",
    "x_n = (xpos[0] + xpos[2]) / 2\n",
    "y_n = 4.\n",
    "\n",
    "plt.text(x_n, y_n, star_n, ha='center', va='bottom', fontsize=8)\n",
    "\n",
    "plt.plot([xpos[0], xpos[1]], [y_c, y_c], color='black', linewidth=0.5)\n",
    "\n",
    "plt.plot([xpos[0], xpos[2]], [y_n, y_n], color='black', linewidth=0.5)\n",
    "\n",
    "# Axes\n",
    "plt.xticks(xpos, xnames, fontsize=9, rotation=45, ha='right')\n",
    "plt.ylabel('Residues Contacts \\n per Protein', fontsize=9)\n",
    "plt.tick_params(labelsize=9)\n",
    "plt.xlim(0.5, 3.5)\n",
    "plt.ylim(0, 5)\n",
    "plt.tight_layout()\n",
    "plt.savefig('num_res.pdf', format='pdf', dpi=600, transparent=True, bbox_inches='tight')\n",
    "plt.show()\n"
   ]
  },
  {
   "cell_type": "code",
   "execution_count": 10,
   "id": "90d64ec4",
   "metadata": {
    "scrolled": true
   },
   "outputs": [
    {
     "name": "stdout",
     "output_type": "stream",
     "text": [
      "Processing full_cahs12...\n"
     ]
    },
    {
     "name": "stderr",
     "output_type": "stream",
     "text": [
      "/home/mjianming/miniconda3/envs/ELP/lib/python3.8/site-packages/MDAnalysis/topology/PDBParser.py:328: UserWarning: Element information is missing, elements attribute will not be populated. If needed these can be guessed using MDAnalysis.topology.guessers.\n",
      "  warnings.warn(\"Element information is missing, elements attribute \"\n",
      "/home/mjianming/miniconda3/envs/ELP/lib/python3.8/site-packages/MDAnalysis/topology/guessers.py:146: UserWarning: Failed to guess the mass for the following atom types: D\n",
      "  warnings.warn(\"Failed to guess the mass for the following atom types: {}\".format(atom_type))\n",
      "/home/mjianming/miniconda3/envs/ELP/lib/python3.8/site-packages/MDAnalysis/topology/guessers.py:146: UserWarning: Failed to guess the mass for the following atom types: G\n",
      "  warnings.warn(\"Failed to guess the mass for the following atom types: {}\".format(atom_type))\n",
      "/home/mjianming/miniconda3/envs/ELP/lib/python3.8/site-packages/MDAnalysis/topology/PDBParser.py:438: UserWarning: PDB file contained CONECT record to TER entry. These are not included in bonds.\n",
      "  warnings.warn(\n"
     ]
    },
    {
     "name": "stdout",
     "output_type": "stream",
     "text": [
      "Processing full_cahs12-2...\n",
      "Processing full_cahs12-3...\n"
     ]
    }
   ],
   "source": [
    "import MDAnalysis as mda\n",
    "import numpy as np\n",
    "import pandas as pd\n",
    "from collections import defaultdict\n",
    "\n",
    "directories = ['CAHS12/sim_1', 'CAHS12/sim_2', 'CAHS12/sim_3']\n",
    "\n",
    "cutoff = 5.0  # in Angstroms\n",
    "overall_stats = []\n",
    "all_residue_frequencies = []\n",
    "\n",
    "residue_type_counts_all = []\n",
    "\n",
    "for directory in directories:\n",
    "    print(f\"Processing {directory}...\")\n",
    "\n",
    "    u = mda.Universe(f'./{directory}/popc_protein.pdb',\n",
    "                     f'./{directory}/popc_protein.xtc')\n",
    "\n",
    "    protein = u.select_atoms(\"protein\")\n",
    "    lipid_heads = u.select_atoms(\"resname POPC and name PO4\")\n",
    "\n",
    "    # Prepare tracking\n",
    "    residue_frame_counts = defaultdict(int)\n",
    "    residue_types = {}\n",
    "    total_frames = 0\n",
    "\n",
    "    for ts in u.trajectory[::5]:\n",
    "        total_frames += 1\n",
    "        dists = mda.lib.distances.distance_array(protein.positions, lipid_heads.positions)\n",
    "        close_protein_indices = np.any(dists < cutoff, axis=1)\n",
    "        nearby_residues = protein[close_protein_indices].residues\n",
    "\n",
    "        for res in nearby_residues:\n",
    "            if res.resid != -1:\n",
    "                key = (res.resid, res.resname)\n",
    "                residue_frame_counts[key] += 1\n",
    "                residue_types[key] = res.resname\n",
    "\n",
    "    # Per-residue frequency\n",
    "    res_freq_data = []\n",
    "    type_count = defaultdict(int)\n",
    "    for (resid, resname), count in residue_frame_counts.items():\n",
    "        freq = count / total_frames\n",
    "        res_freq_data.append({\n",
    "            'resid': resid,\n",
    "            'resname': resname,\n",
    "            'frequency': freq,\n",
    "            'directory': directory\n",
    "        })\n",
    "        type_count[resname] += 1\n",
    "\n",
    "    all_residue_frequencies.extend(res_freq_data)\n",
    "    type_count[\"directory\"] = directory\n",
    "    residue_type_counts_all.append(type_count)\n",
    "\n",
    "# Save per-residue data\n",
    "df_per_residue = pd.DataFrame(all_residue_frequencies)\n",
    "df_per_type = pd.DataFrame(residue_type_counts_all).fillna(0)\n",
    "\n"
   ]
  },
  {
   "cell_type": "code",
   "execution_count": 11,
   "id": "f43f7565",
   "metadata": {},
   "outputs": [
    {
     "data": {
      "text/html": [
       "<div>\n",
       "<style scoped>\n",
       "    .dataframe tbody tr th:only-of-type {\n",
       "        vertical-align: middle;\n",
       "    }\n",
       "\n",
       "    .dataframe tbody tr th {\n",
       "        vertical-align: top;\n",
       "    }\n",
       "\n",
       "    .dataframe thead th {\n",
       "        text-align: right;\n",
       "    }\n",
       "</style>\n",
       "<table border=\"1\" class=\"dataframe\">\n",
       "  <thead>\n",
       "    <tr style=\"text-align: right;\">\n",
       "      <th></th>\n",
       "      <th>resid</th>\n",
       "      <th>resname</th>\n",
       "      <th>frequency</th>\n",
       "      <th>directory</th>\n",
       "    </tr>\n",
       "  </thead>\n",
       "  <tbody>\n",
       "    <tr>\n",
       "      <th>0</th>\n",
       "      <td>51</td>\n",
       "      <td>THR</td>\n",
       "      <td>0.454545</td>\n",
       "      <td>full_cahs12</td>\n",
       "    </tr>\n",
       "    <tr>\n",
       "      <th>1</th>\n",
       "      <td>53</td>\n",
       "      <td>GLY</td>\n",
       "      <td>0.454545</td>\n",
       "      <td>full_cahs12</td>\n",
       "    </tr>\n",
       "    <tr>\n",
       "      <th>2</th>\n",
       "      <td>55</td>\n",
       "      <td>GLY</td>\n",
       "      <td>0.636364</td>\n",
       "      <td>full_cahs12</td>\n",
       "    </tr>\n",
       "    <tr>\n",
       "      <th>3</th>\n",
       "      <td>56</td>\n",
       "      <td>GLY</td>\n",
       "      <td>0.363636</td>\n",
       "      <td>full_cahs12</td>\n",
       "    </tr>\n",
       "    <tr>\n",
       "      <th>4</th>\n",
       "      <td>57</td>\n",
       "      <td>THR</td>\n",
       "      <td>0.454545</td>\n",
       "      <td>full_cahs12</td>\n",
       "    </tr>\n",
       "    <tr>\n",
       "      <th>...</th>\n",
       "      <td>...</td>\n",
       "      <td>...</td>\n",
       "      <td>...</td>\n",
       "      <td>...</td>\n",
       "    </tr>\n",
       "    <tr>\n",
       "      <th>456</th>\n",
       "      <td>266</td>\n",
       "      <td>ASP</td>\n",
       "      <td>0.090909</td>\n",
       "      <td>full_cahs12-3</td>\n",
       "    </tr>\n",
       "    <tr>\n",
       "      <th>457</th>\n",
       "      <td>283</td>\n",
       "      <td>GLU</td>\n",
       "      <td>0.090909</td>\n",
       "      <td>full_cahs12-3</td>\n",
       "    </tr>\n",
       "    <tr>\n",
       "      <th>458</th>\n",
       "      <td>296</td>\n",
       "      <td>GLY</td>\n",
       "      <td>0.090909</td>\n",
       "      <td>full_cahs12-3</td>\n",
       "    </tr>\n",
       "    <tr>\n",
       "      <th>459</th>\n",
       "      <td>297</td>\n",
       "      <td>LEU</td>\n",
       "      <td>0.090909</td>\n",
       "      <td>full_cahs12-3</td>\n",
       "    </tr>\n",
       "    <tr>\n",
       "      <th>460</th>\n",
       "      <td>78</td>\n",
       "      <td>SER</td>\n",
       "      <td>0.090909</td>\n",
       "      <td>full_cahs12-3</td>\n",
       "    </tr>\n",
       "  </tbody>\n",
       "</table>\n",
       "<p>461 rows × 4 columns</p>\n",
       "</div>"
      ],
      "text/plain": [
       "     resid resname  frequency      directory\n",
       "0       51     THR   0.454545    full_cahs12\n",
       "1       53     GLY   0.454545    full_cahs12\n",
       "2       55     GLY   0.636364    full_cahs12\n",
       "3       56     GLY   0.363636    full_cahs12\n",
       "4       57     THR   0.454545    full_cahs12\n",
       "..     ...     ...        ...            ...\n",
       "456    266     ASP   0.090909  full_cahs12-3\n",
       "457    283     GLU   0.090909  full_cahs12-3\n",
       "458    296     GLY   0.090909  full_cahs12-3\n",
       "459    297     LEU   0.090909  full_cahs12-3\n",
       "460     78     SER   0.090909  full_cahs12-3\n",
       "\n",
       "[461 rows x 4 columns]"
      ]
     },
     "execution_count": 11,
     "metadata": {},
     "output_type": "execute_result"
    }
   ],
   "source": [
    "df_per_residue"
   ]
  },
  {
   "cell_type": "code",
   "execution_count": 12,
   "id": "a237b8b6",
   "metadata": {},
   "outputs": [
    {
     "data": {
      "image/png": "[encoded data removed]",
      "text/plain": [
       "<Figure size 750x450 with 1 Axes>"
      ]
     },
     "metadata": {
      "needs_background": "light"
     },
     "output_type": "display_data"
    }
   ],
   "source": [
    "df_vals = df_per_type.drop(columns=['directory'])\n",
    "means = df_vals.mean()\n",
    "stds = df_vals.std()\n",
    "\n",
    "# Sort by mean descending\n",
    "means_sorted = means.sort_values(ascending=False)\n",
    "stds_sorted = stds[means_sorted.index]\n",
    "amino_acids = means_sorted.index\n",
    "\n",
    "# Plot\n",
    "plt.figure(figsize=(5, 3), dpi=150)\n",
    "x = np.arange(len(amino_acids))\n",
    "\n",
    "# Bars\n",
    "plt.bar(x, means_sorted, yerr=stds_sorted, capsize=4, alpha=0.7, color='gray')\n",
    "\n",
    "# Scatter individual values\n",
    "for i, aa in enumerate(amino_acids):\n",
    "    y_vals = df_vals[aa].values\n",
    "    x_vals = np.full_like(y_vals, i, dtype=float)\n",
    "    plt.scatter(x_vals, y_vals, color='black', s=10, alpha=1)\n",
    "\n",
    "# Aesthetics\n",
    "plt.xticks(x, amino_acids, rotation=45, ha='right', fontsize=10)\n",
    "plt.ylabel(\"Average Contacts\", fontsize=12)\n",
    "plt.tight_layout()\n",
    "plt.savefig('residue-lipid.pdf', format='pdf', dpi=400, transparent=True, bbox_inches='tight')\n",
    "plt.show()"
   ]
  },
  {
   "cell_type": "code",
   "execution_count": 13,
   "id": "2e48462a",
   "metadata": {},
   "outputs": [
    {
     "data": {
      "image/png": "[encoded data removed]",
      "text/plain": [
       "<Figure size 300x600 with 1 Axes>"
      ]
     },
     "metadata": {
      "needs_background": "light"
     },
     "output_type": "display_data"
    }
   ],
   "source": [
    "import pandas as pd\n",
    "import matplotlib.pyplot as plt\n",
    "import numpy as np\n",
    "\n",
    "df_per_residue['resid'] = pd.to_numeric(df_per_residue['resid'])\n",
    "\n",
    "bins = np.linspace(0, 300, 60)  # 40 bins between 0 and 300\n",
    "bin_centers = 0.5 * (bins[:-1] + bins[1:])\n",
    "\n",
    "histograms = []\n",
    "for directory in df_per_residue['directory'].unique():\n",
    "    subset = df_per_residue[df_per_residue['directory'] == directory]\n",
    "    counts, _ = np.histogram(subset['resid'], bins=bins)\n",
    "    histograms.append(counts)\n",
    "\n",
    "hist_array = np.array(histograms)\n",
    "mean_hist = hist_array.mean(axis=0)\n",
    "std_hist = hist_array.std(axis=0)\n",
    "\n",
    "# Plot\n",
    "plt.figure(figsize=(2, 4), dpi=150)\n",
    "plt.barh(bin_centers, mean_hist, height=(bins[1] - bins[0]), color='lightgray', alpha=0.8, edgecolor='k', zorder=4)\n",
    "\n",
    "plt.axhspan(0, 155, color='#3688bb', alpha=0.1)  # N-Term\n",
    "plt.axhspan(155, 250, color='white', alpha=0.1)  # Linker\n",
    "plt.axhspan(250, 300, color='#b57979', alpha=0.1)  # C-Term\n",
    "\n",
    "plt.text(7.5, (0 + 155) / 2, 'N-Term', va='center', ha='center', fontsize=7, rotation=0)\n",
    "plt.text(7.5, (155 + 250) / 2, 'Linker', va='center', ha='center', fontsize=7, rotation=0)\n",
    "plt.text(7.5, (250 + 300) / 2, 'C-Term', va='center', ha='center', fontsize=7, rotation=0)\n",
    "\n",
    "plt.ylim(0, 300)\n",
    "plt.xlim(0, 10)\n",
    "plt.xlabel(\"Contacts with Lipids\", fontsize=8)\n",
    "plt.tick_params(labelsize=8)\n",
    "\n",
    "ax = plt.gca()\n",
    "ax.yaxis.tick_right()\n",
    "ax.yaxis.set_label_position(\"right\")\n",
    "ax.set_ylabel(\"Residue ID\", fontsize=8)\n",
    "ax.invert_xaxis()\n",
    "\n",
    "plt.tight_layout()\n",
    "plt.savefig('nodes-lipids-vertical.pdf', format='pdf', dpi=400, transparent=True, bbox_inches='tight')\n",
    "plt.show()"
   ]
  },
  {
   "cell_type": "code",
   "execution_count": null,
   "id": "b0204c76",
   "metadata": {},
   "outputs": [],
   "source": []
  }
 ],
 "metadata": {
  "kernelspec": {
   "display_name": "ELP",
   "language": "python",
   "name": "elp"
  },
  "language_info": {
   "codemirror_mode": {
    "name": "ipython",
    "version": 3
   },
   "file_extension": ".py",
   "mimetype": "text/x-python",
   "name": "python",
   "nbconvert_exporter": "python",
   "pygments_lexer": "ipython3",
   "version": "3.8.19"
  }
 },
 "nbformat": 4,
 "nbformat_minor": 5
}
